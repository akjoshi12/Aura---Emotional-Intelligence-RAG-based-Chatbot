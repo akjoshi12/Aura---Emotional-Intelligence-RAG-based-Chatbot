{
 "cells": [
  {
   "cell_type": "code",
   "execution_count": 1,
   "id": "52c4990b-4b7e-4bf8-a248-81ea172f8c8d",
   "metadata": {},
   "outputs": [],
   "source": [
    "import pandas as pd\n",
    "from tqdm import tqdm\n",
    "import re\n",
    "import ast\n"
   ]
  },
  {
   "cell_type": "code",
   "execution_count": 2,
   "id": "99b1523f-7f00-47e1-b235-d40773b8d95a",
   "metadata": {},
   "outputs": [],
   "source": [
    "# Reading the csv file\n",
    "chat = pd.read_csv(\"chat_data.csv\")"
   ]
  },
  {
   "cell_type": "code",
   "execution_count": 3,
   "id": "c54530a1-11d6-4fc7-890a-cf7a3822a1c1",
   "metadata": {},
   "outputs": [],
   "source": [
    "# To see first 5 columns more clearly since it is conversational data\n",
    "pd.set_option('display.max_colwidth', None)"
   ]
  },
  {
   "cell_type": "code",
   "execution_count": 4,
   "id": "1206e30a-b78b-413e-b6c0-ec79240ec2fd",
   "metadata": {},
   "outputs": [
    {
     "data": {
      "text/html": [
       "<div>\n",
       "<style scoped>\n",
       "    .dataframe tbody tr th:only-of-type {\n",
       "        vertical-align: middle;\n",
       "    }\n",
       "\n",
       "    .dataframe tbody tr th {\n",
       "        vertical-align: top;\n",
       "    }\n",
       "\n",
       "    .dataframe thead th {\n",
       "        text-align: right;\n",
       "    }\n",
       "</style>\n",
       "<table border=\"1\" class=\"dataframe\">\n",
       "  <thead>\n",
       "    <tr style=\"text-align: right;\">\n",
       "      <th></th>\n",
       "      <th>conversations</th>\n",
       "      <th>id</th>\n",
       "    </tr>\n",
       "  </thead>\n",
       "  <tbody>\n",
       "    <tr>\n",
       "      <th>0</th>\n",
       "      <td>[{'from': 'human', 'value': \"I've been feeling so sad and overwhelmed lately. Work has become such a massive source of stress for me.\"}\\n {'from': 'gpt', 'value': \"Hey there, I'm here to listen and support you. It sounds like work has been really challenging lately. Can you tell me more about what's been going on?\"}\\n {'from': 'human', 'value': \"I recently got a promotion at work, which I thought would be exciting. But the added responsibilities and pressure have just taken a toll on my mental health. It's been a really moving experience for me.\"}\\n {'from': 'gpt', 'value': \"I can understand how it can be overwhelming when we're faced with higher expectations. It's okay to acknowledge your emotions and allow yourself to feel sad in this situation. It's an important part of the healing process. What specific challenges have you been facing at work?\"}\\n {'from': 'human', 'value': \"Well, the workload has increased significantly, and I find it hard to maintain a work-life balance. I've been staying late at the office, and it feels like I'm constantly under a pile of never-ending tasks. It's just so hard to keep up, and it's impacting my overall well-being.\"}\\n {'from': 'gpt', 'value': \"It sounds like you're dealing with a lot of pressure to perform and succeed. Remember, it's crucial to take care of yourself, both mentally and physically. A healthy work-life balance is essential. Have you tried any strategies to cope with the added workload?\"}\\n {'from': 'human', 'value': \"I've been trying to prioritize my tasks and delegate whenever possible. I've also started practicing meditation during my breaks to help manage stress. But sometimes, it feels like no matter what I do, I can't catch a break. It's been a constant struggle.\"}\\n {'from': 'gpt', 'value': \"It's great to hear that you're already implementing some helpful strategies. Remember, progress takes time, and it's okay to have setbacks. In addition to what you're already doing, I encourage you to also communicate with your supervisor or team about your workload and discuss possible solutions together.\"}\\n {'from': 'human', 'value': \"You're right. I haven't really opened up about my struggles to my coworkers or supervisor. I guess I've been afraid of appearing weak or incapable. How can I approach this discussion without feeling vulnerable?\"}\\n {'from': 'gpt', 'value': \"It's completely normal to feel that way, but remember, asking for support is a strength, not a weakness. Start by scheduling a conversation with your supervisor or a trusted colleague in a private and comfortable setting. Be honest about your challenges and express your willingness to find solutions together. Remember, you're not alone in this.\"}\\n {'from': 'human', 'value': \"Thank you for your understanding and guidance. I appreciate the reminder that I don't have to face this alone. I'll gather my courage and initiate that conversation soon. I need to prioritize my well-being and find a healthier balance.\"}\\n {'from': 'gpt', 'value': \"You're very welcome! I'm here to support you every step of the way. Taking care of yourself should always be a priority. Remember to be kind to yourself and celebrate your progress, no matter how small it may seem. You've got this!\"}]</td>\n",
       "      <td>identity_0</td>\n",
       "    </tr>\n",
       "    <tr>\n",
       "      <th>1</th>\n",
       "      <td>[{'from': 'human', 'value': \"Hi, I'm feeling really scared about something and I need some advice. It's about friendship.\"}\\n {'from': 'gpt', 'value': \"Hello there! I'm here to listen and offer support. Tell me more about what's going on with your friendship. What specifically is making you feel scared?\"}\\n {'from': 'human', 'value': \"Well, lately, I've been feeling like my friends don't value me as much as I value them. It's like I'm always the one reaching out and making plans, but they never initiate anything. It's making me doubt if our friendship is genuine.\"}\\n {'from': 'gpt', 'value': \"I understand how disheartening that can be. It's important to feel valued and appreciated in any relationship. Have you talked to your friends about how you're feeling?\"}\\n {'from': 'human', 'value': \"No, I haven't. I'm afraid that they'll think I'm being needy or that they'll get defensive. I don't want to ruin our friendship by bringing it up.\"}\\n {'from': 'gpt', 'value': \"It's normal to feel hesitant about having difficult conversations, but addressing your concerns is a crucial step towards building stronger connections. Before jumping to conclusions, it's important to communicate openly and honestly. You deserve to express your feelings.\"}\\n {'from': 'human', 'value': \"You're right, I should talk to them. But how do I approach the conversation without sounding accusatory or angry?\"}\\n {'from': 'gpt', 'value': 'That\\'s a great question! It can be helpful to use \"I\" statements to express how you feel, rather than placing blame on others. For example, you can say, \"I\\'ve been feeling a bit overlooked lately, and I wanted to talk about our friendship to ensure we\\'re on the same page.\"'}\\n {'from': 'human', 'value': \"I see, so it's important to frame it as a dialogue rather than confrontational. That makes sense.\"}\\n {'from': 'gpt', 'value': 'Absolutely! Opening up a conversation can lead to better understanding and growth. Remember, your feelings are valid, and a healthy friendship should provide a safe space to express them. If your friends truly care about you, they will listen and try to understand your perspective.'}\\n {'from': 'human', 'value': \"It's reassuring to hear that. I'll try to gather the courage to talk to them. But what if they don't respond well? What if they dismiss my concerns?\"}\\n {'from': 'gpt', 'value': \"It's natural to worry about how others might react, but remember, you cannot control their responses. What you can control is how you handle the situation. If they dismiss your concerns, it might be an indication that they are not as invested in the friendship as you would like. In that case, it's essential to focus on surrounding yourself with people who appreciate and support you.\"}\\n {'from': 'human', 'value': \"That's true. I shouldn't hold onto toxic relationships. It's just hard to let go sometimes, you know?\"}\\n {'from': 'gpt', 'value': \"Letting go can be challenging, especially when we have invested time and energy into a friendship. It's essential to prioritize your well-being and surround yourself with those who uplift you. Remember, you deserve friendships that nourish your self-esteem and bring positivity into your life.\"}\\n {'from': 'human', 'value': 'Thank you for reminding me of my worth. I appreciate your advice and support.'}\\n {'from': 'gpt', 'value': \"You're very welcome! Building healthy friendships is a journey, and you have taken the first step by recognizing the need for change. Remember to be gentle with yourself as you navigate through this process. You're doing great!\"}\\n {'from': 'human', 'value': 'I will, thank you. I feel much better after talking to you.'}\\n {'from': 'gpt', 'value': \"I'm glad to hear that. Remember, I'm here for you whenever you need someone to talk to. Don't hesitate to reach out. You've got this!\"}]</td>\n",
       "      <td>identity_1</td>\n",
       "    </tr>\n",
       "    <tr>\n",
       "      <th>2</th>\n",
       "      <td>[{'from': 'human', 'value': \"Hey, I hope you're doing well. I wanted to talk about something that has been on my mind lately. I've been feeling really surprised by my emotional state and it's starting to affect my overall health.\"}\\n {'from': 'gpt', 'value': \"Hello there, I'm here to listen and support you through this. Can you tell me more about what has been surprising you emotionally and how it's impacting your health?\"}\\n {'from': 'human', 'value': \"I've been dealing with a lot of sadness and hopelessness. It just came out of nowhere, and I can't seem to shake it off. It's making me feel physically exhausted and it's difficult to concentrate on everyday tasks.\"}\\n {'from': 'gpt', 'value': 'I understand how disconcerting it can be when emotions catch us by surprise. It sounds like the sudden onset of sadness and hopelessness is taking a toll on your overall well-being. Have there been any major life events or changes recently that could have contributed to these feelings?'}\\n {'from': 'human', 'value': \"Well, I did recently go through a breakup, but I thought I had moved on. I didn't expect it to affect me this much. Additionally, my workload at the office has increased, which is adding to my stress.\"}\\n {'from': 'gpt', 'value': \"Breakups can often lead to a wide range of emotions and it's normal for them to resurface unexpectedly. It seems like this breakup, coupled with increased work stress, might be factors contributing to your current emotional state. How have you been coping with these challenges so far?\"}\\n {'from': 'human', 'value': \"I've been trying to distract myself by keeping busy, but it only provides temporary relief. I've also been talking to friends, but I feel like a burden sometimes. It's as if they don't really understand what I'm going through.\"}\\n {'from': 'gpt', 'value': \"It's important to have support from friends, but it can be disheartening when they don't fully comprehend what you're experiencing. Remember, you don't have to face this alone. Therapy can provide a safe space to explore and understand your emotions without feeling like a burden. Have you considered seeking professional help before?\"}\\n {'from': 'human', 'value': \"Honestly, therapy has always intimidated me. I was afraid of being judged or misunderstood. But now, I'm realizing that I need someone who can guide me through this.\"}\\n {'from': 'gpt', 'value': \"It's completely understandable to have reservations about therapy. However, I want to assure you that my role as a therapist is not to judge, but rather to provide a supportive and non-judgmental environment where you can freely express yourself. Together, we can work towards understanding and addressing the underlying issues contributing to your depression. Are you open to exploring therapy as a potential avenue for healing and growth?\"}\\n {'from': 'human', 'value': 'Yes, I am. I want to feel better and gain a better understanding of myself. How do we start?'}\\n {'from': 'gpt', 'value': \"That's wonderful to hear! We'll start by setting goals for therapy and creating a safe space for open dialogue. We'll explore your past experiences, relationships, and current circumstances to gain insight into the root causes of your depression. Throughout this process, I'll ask questions to help you reflect and find new perspectives. Additionally, I will provide guidance and support as we work towards your desired outcomes. Is that something you feel comfortable with?\"}\\n {'from': 'human', 'value': \"Yes, I'm ready to begin this journey of self-exploration and healing. Thank you for being so understanding and supportive. I'm looking forward to our sessions.\"}\\n {'from': 'gpt', 'value': \"You're very welcome! Thank you for putting your trust in me. Remember, progress takes time, so let's be patient and kind with ourselves throughout this process. I'm here for you every step of the way. Together, we can make meaningful strides towards a healthier and happier you.\"}]</td>\n",
       "      <td>identity_2</td>\n",
       "    </tr>\n",
       "    <tr>\n",
       "      <th>3</th>\n",
       "      <td>[{'from': 'human', 'value': \"I'm feeling really overwhelmed, and I don't know what to do about it. It's just that everything seems so heavy and hopeless right now, you know? And I can't quite put my finger on why I'm feeling this way. Maybe it has something to do with my relationship with my mom.\"}\\n {'from': 'gpt', 'value': \"I hear you, and it sounds like you're carrying a heavy burden right now. Feeling overwhelmed is a common symptom of depression, and it can make everything seem bleak. It's understandable that you're struggling to identify the exact cause of these emotions. Can you tell me more about your relationship with your mom?\"}]</td>\n",
       "      <td>identity_3</td>\n",
       "    </tr>\n",
       "    <tr>\n",
       "      <th>4</th>\n",
       "      <td>[{'from': 'human', 'value': \"I'm feeling really upset and confused about my identity.\"}\\n {'from': 'gpt', 'value': \"I hear your concerns, and I'm here to help. Could you tell me a bit more about what's been going on that's making you feel this way?\"}\\n {'from': 'human', 'value': \"Well, I've been struggling with addiction for a while now, and it's starting to take a toll on how I see myself. I feel like my addiction has become a part of my identity, and it's hard to imagine who I am without it.\"}\\n {'from': 'gpt', 'value': \"Addiction can certainly have a significant impact on how we perceive ourselves, but I want you to know that you are not defined by your addiction. It's only one part of your journey. Have you been able to identify any specific triggers or underlying reasons for your addiction?\"}\\n {'from': 'human', 'value': 'I think stress and anxiety play a big role in why I turned to addiction in the first place. It became a way for me to escape from those overwhelming emotions.'}\\n {'from': 'gpt', 'value': \"That's a crucial insight. Recognizing the link between stress, anxiety, and your addiction is a major step towards finding healthier coping mechanisms. Have you explored any alternative ways to manage stress and anxiety?\"}\\n {'from': 'human', 'value': \"I've tried a few things like meditation and exercise, but they haven't been as effective as I had hoped. It's tempting to go back to my addiction because it temporarily numbs those feelings.\"}\\n {'from': 'gpt', 'value': \"I appreciate your honesty. It's essential to acknowledge that finding alternative coping mechanisms takes time and effort. We need to identify what works best for you. Have you considered seeking support from addiction recovery groups or counseling?\"}\\n {'from': 'human', 'value': \"I haven't thought about that before. Do you think it could help?\"}\\n {'from': 'gpt', 'value': \"Absolutely! Joining a support group or seeking counseling can provide you with a safe space to share your experiences with others who can relate to what you're going through. They can offer guidance and encouragement as you navigate your way to recovery. It's an opportunity to connect with people who understand and have successfully managed their addiction.\"}\\n {'from': 'human', 'value': \"That sounds comforting. I've always felt a bit isolated, thinking that no one would understand what I'm going through. Is it okay to reach out for help?\"}\\n {'from': 'gpt', 'value': \"It's more than okay; it's commendable. Asking for help takes tremendous strength and courage. Remember, you're not alone in this journey. Many people have successfully recovered from addiction and rebuilt their lives. It's crucial to have a support system that can guide you along the way, whether it's friends, family, or professionals who specialize in addiction recovery.\"}\\n {'from': 'human', 'value': \"Thank you for your reassurance. I will definitely look into finding a support group or counselor. But I'm worried about relapsing and losing all the progress I've made. How can I stay strong during the recovery process?\"}\\n {'from': 'gpt', 'value': \"Relapse is a common concern for anyone going through recovery. It's essential to remember that setbacks can happen, but they don't define your progress. Developing a relapse prevention plan with the guidance of a counselor can help you anticipate triggers and develop strategies to overcome cravings. Building a support system can also provide accountability and encouragement during challenging times.\"}\\n {'from': 'human', 'value': \"That makes sense. I'll do my best to stay committed to my recovery and reach out for help when needed. Thank you for your guidance and support.\"}\\n {'from': 'gpt', 'value': \"You're most welcome. Remember, recovery is a journey, and it won't always be easy. But with perseverance and the right support, you can regain control of your life and rediscover your true identity, beyond addiction. I believe in you, and I'll be here every step of the way.\"}\\n {'from': 'human', 'value': \"Thank you, I needed to hear that. I'm grateful to have someone like you in my corner. I'm feeling hopeful and ready to take those steps towards a better future.\"}\\n {'from': 'gpt', 'value': \"I'm glad to hear that. Remember, you have inherent worth and strength within you. Embrace your journey, and know that true healing and transformation are possible. I'm here whenever you need to talk. Take care, and stay strong.\"}]</td>\n",
       "      <td>identity_4</td>\n",
       "    </tr>\n",
       "  </tbody>\n",
       "</table>\n",
       "</div>"
      ],
      "text/plain": [
       "                                                                                                                                                                                                                                                                                                                                                                                                                                                                                                                                                                                                                                                                                                                                                                                                                                                                                                                                                                                                                                                                                                                                                                                                                                                                                                                                                                                                                                                                                                                                                                                                                                                                                                                                                                                                                                                                                                                                                                                                                                                                                                                                                                                                                                                                                                                                                                                                                                                                                                                                                                                                                                                                                                                                                                                                                                                                                                                                                                                                                                                                                                                                                                                                                                                                                                                                                                                                                                                                                                                                                                                                                                                                                                                                                                                                                                                                                                                                                                                                                                                                                                                                                                                                                                                                                                                                                                                                                                                                                                                                                                                                                      conversations  \\\n",
       "0                                                                                                                                                                                                                                                                                                                                                                                                                                                                                                                                                                                                                                                                                                                                                                                                                                                                                                                                                                                                                                                                                                                                                                                                                                                          [{'from': 'human', 'value': \"I've been feeling so sad and overwhelmed lately. Work has become such a massive source of stress for me.\"}\\n {'from': 'gpt', 'value': \"Hey there, I'm here to listen and support you. It sounds like work has been really challenging lately. Can you tell me more about what's been going on?\"}\\n {'from': 'human', 'value': \"I recently got a promotion at work, which I thought would be exciting. But the added responsibilities and pressure have just taken a toll on my mental health. It's been a really moving experience for me.\"}\\n {'from': 'gpt', 'value': \"I can understand how it can be overwhelming when we're faced with higher expectations. It's okay to acknowledge your emotions and allow yourself to feel sad in this situation. It's an important part of the healing process. What specific challenges have you been facing at work?\"}\\n {'from': 'human', 'value': \"Well, the workload has increased significantly, and I find it hard to maintain a work-life balance. I've been staying late at the office, and it feels like I'm constantly under a pile of never-ending tasks. It's just so hard to keep up, and it's impacting my overall well-being.\"}\\n {'from': 'gpt', 'value': \"It sounds like you're dealing with a lot of pressure to perform and succeed. Remember, it's crucial to take care of yourself, both mentally and physically. A healthy work-life balance is essential. Have you tried any strategies to cope with the added workload?\"}\\n {'from': 'human', 'value': \"I've been trying to prioritize my tasks and delegate whenever possible. I've also started practicing meditation during my breaks to help manage stress. But sometimes, it feels like no matter what I do, I can't catch a break. It's been a constant struggle.\"}\\n {'from': 'gpt', 'value': \"It's great to hear that you're already implementing some helpful strategies. Remember, progress takes time, and it's okay to have setbacks. In addition to what you're already doing, I encourage you to also communicate with your supervisor or team about your workload and discuss possible solutions together.\"}\\n {'from': 'human', 'value': \"You're right. I haven't really opened up about my struggles to my coworkers or supervisor. I guess I've been afraid of appearing weak or incapable. How can I approach this discussion without feeling vulnerable?\"}\\n {'from': 'gpt', 'value': \"It's completely normal to feel that way, but remember, asking for support is a strength, not a weakness. Start by scheduling a conversation with your supervisor or a trusted colleague in a private and comfortable setting. Be honest about your challenges and express your willingness to find solutions together. Remember, you're not alone in this.\"}\\n {'from': 'human', 'value': \"Thank you for your understanding and guidance. I appreciate the reminder that I don't have to face this alone. I'll gather my courage and initiate that conversation soon. I need to prioritize my well-being and find a healthier balance.\"}\\n {'from': 'gpt', 'value': \"You're very welcome! I'm here to support you every step of the way. Taking care of yourself should always be a priority. Remember to be kind to yourself and celebrate your progress, no matter how small it may seem. You've got this!\"}]   \n",
       "1                                                                                                                                                                                                                                                                                                                                                                                                                                                                                                                                                                                                                                              [{'from': 'human', 'value': \"Hi, I'm feeling really scared about something and I need some advice. It's about friendship.\"}\\n {'from': 'gpt', 'value': \"Hello there! I'm here to listen and offer support. Tell me more about what's going on with your friendship. What specifically is making you feel scared?\"}\\n {'from': 'human', 'value': \"Well, lately, I've been feeling like my friends don't value me as much as I value them. It's like I'm always the one reaching out and making plans, but they never initiate anything. It's making me doubt if our friendship is genuine.\"}\\n {'from': 'gpt', 'value': \"I understand how disheartening that can be. It's important to feel valued and appreciated in any relationship. Have you talked to your friends about how you're feeling?\"}\\n {'from': 'human', 'value': \"No, I haven't. I'm afraid that they'll think I'm being needy or that they'll get defensive. I don't want to ruin our friendship by bringing it up.\"}\\n {'from': 'gpt', 'value': \"It's normal to feel hesitant about having difficult conversations, but addressing your concerns is a crucial step towards building stronger connections. Before jumping to conclusions, it's important to communicate openly and honestly. You deserve to express your feelings.\"}\\n {'from': 'human', 'value': \"You're right, I should talk to them. But how do I approach the conversation without sounding accusatory or angry?\"}\\n {'from': 'gpt', 'value': 'That\\'s a great question! It can be helpful to use \"I\" statements to express how you feel, rather than placing blame on others. For example, you can say, \"I\\'ve been feeling a bit overlooked lately, and I wanted to talk about our friendship to ensure we\\'re on the same page.\"'}\\n {'from': 'human', 'value': \"I see, so it's important to frame it as a dialogue rather than confrontational. That makes sense.\"}\\n {'from': 'gpt', 'value': 'Absolutely! Opening up a conversation can lead to better understanding and growth. Remember, your feelings are valid, and a healthy friendship should provide a safe space to express them. If your friends truly care about you, they will listen and try to understand your perspective.'}\\n {'from': 'human', 'value': \"It's reassuring to hear that. I'll try to gather the courage to talk to them. But what if they don't respond well? What if they dismiss my concerns?\"}\\n {'from': 'gpt', 'value': \"It's natural to worry about how others might react, but remember, you cannot control their responses. What you can control is how you handle the situation. If they dismiss your concerns, it might be an indication that they are not as invested in the friendship as you would like. In that case, it's essential to focus on surrounding yourself with people who appreciate and support you.\"}\\n {'from': 'human', 'value': \"That's true. I shouldn't hold onto toxic relationships. It's just hard to let go sometimes, you know?\"}\\n {'from': 'gpt', 'value': \"Letting go can be challenging, especially when we have invested time and energy into a friendship. It's essential to prioritize your well-being and surround yourself with those who uplift you. Remember, you deserve friendships that nourish your self-esteem and bring positivity into your life.\"}\\n {'from': 'human', 'value': 'Thank you for reminding me of my worth. I appreciate your advice and support.'}\\n {'from': 'gpt', 'value': \"You're very welcome! Building healthy friendships is a journey, and you have taken the first step by recognizing the need for change. Remember to be gentle with yourself as you navigate through this process. You're doing great!\"}\\n {'from': 'human', 'value': 'I will, thank you. I feel much better after talking to you.'}\\n {'from': 'gpt', 'value': \"I'm glad to hear that. Remember, I'm here for you whenever you need someone to talk to. Don't hesitate to reach out. You've got this!\"}]   \n",
       "2                                                                                                                                                                                                                                                                                                                                                                                                                                                                                                     [{'from': 'human', 'value': \"Hey, I hope you're doing well. I wanted to talk about something that has been on my mind lately. I've been feeling really surprised by my emotional state and it's starting to affect my overall health.\"}\\n {'from': 'gpt', 'value': \"Hello there, I'm here to listen and support you through this. Can you tell me more about what has been surprising you emotionally and how it's impacting your health?\"}\\n {'from': 'human', 'value': \"I've been dealing with a lot of sadness and hopelessness. It just came out of nowhere, and I can't seem to shake it off. It's making me feel physically exhausted and it's difficult to concentrate on everyday tasks.\"}\\n {'from': 'gpt', 'value': 'I understand how disconcerting it can be when emotions catch us by surprise. It sounds like the sudden onset of sadness and hopelessness is taking a toll on your overall well-being. Have there been any major life events or changes recently that could have contributed to these feelings?'}\\n {'from': 'human', 'value': \"Well, I did recently go through a breakup, but I thought I had moved on. I didn't expect it to affect me this much. Additionally, my workload at the office has increased, which is adding to my stress.\"}\\n {'from': 'gpt', 'value': \"Breakups can often lead to a wide range of emotions and it's normal for them to resurface unexpectedly. It seems like this breakup, coupled with increased work stress, might be factors contributing to your current emotional state. How have you been coping with these challenges so far?\"}\\n {'from': 'human', 'value': \"I've been trying to distract myself by keeping busy, but it only provides temporary relief. I've also been talking to friends, but I feel like a burden sometimes. It's as if they don't really understand what I'm going through.\"}\\n {'from': 'gpt', 'value': \"It's important to have support from friends, but it can be disheartening when they don't fully comprehend what you're experiencing. Remember, you don't have to face this alone. Therapy can provide a safe space to explore and understand your emotions without feeling like a burden. Have you considered seeking professional help before?\"}\\n {'from': 'human', 'value': \"Honestly, therapy has always intimidated me. I was afraid of being judged or misunderstood. But now, I'm realizing that I need someone who can guide me through this.\"}\\n {'from': 'gpt', 'value': \"It's completely understandable to have reservations about therapy. However, I want to assure you that my role as a therapist is not to judge, but rather to provide a supportive and non-judgmental environment where you can freely express yourself. Together, we can work towards understanding and addressing the underlying issues contributing to your depression. Are you open to exploring therapy as a potential avenue for healing and growth?\"}\\n {'from': 'human', 'value': 'Yes, I am. I want to feel better and gain a better understanding of myself. How do we start?'}\\n {'from': 'gpt', 'value': \"That's wonderful to hear! We'll start by setting goals for therapy and creating a safe space for open dialogue. We'll explore your past experiences, relationships, and current circumstances to gain insight into the root causes of your depression. Throughout this process, I'll ask questions to help you reflect and find new perspectives. Additionally, I will provide guidance and support as we work towards your desired outcomes. Is that something you feel comfortable with?\"}\\n {'from': 'human', 'value': \"Yes, I'm ready to begin this journey of self-exploration and healing. Thank you for being so understanding and supportive. I'm looking forward to our sessions.\"}\\n {'from': 'gpt', 'value': \"You're very welcome! Thank you for putting your trust in me. Remember, progress takes time, so let's be patient and kind with ourselves throughout this process. I'm here for you every step of the way. Together, we can make meaningful strides towards a healthier and happier you.\"}]   \n",
       "3                                                                                                                                                                                                                                                                                                                                                                                                                                                                                                                                                                                                                                                                                                                                                                                                                                                                                                                                                                                                                                                                                                                                                                                                                                                                                                                                                                                                                                                                                                                                                                                                                                                                                                                                                                                                                                                                                                                                                                                                                                                                                                                                                                                                                                                                                                                                                                                                                                                                                                                                                                                                                                                                                                                                                                                                                                                                                                                                                                                                                                                                                                                                                                                                                                                                                                                                                                                                                                                                                                                                                                                                                                                                                                                                                                                                                                                                                                                                                           [{'from': 'human', 'value': \"I'm feeling really overwhelmed, and I don't know what to do about it. It's just that everything seems so heavy and hopeless right now, you know? And I can't quite put my finger on why I'm feeling this way. Maybe it has something to do with my relationship with my mom.\"}\\n {'from': 'gpt', 'value': \"I hear you, and it sounds like you're carrying a heavy burden right now. Feeling overwhelmed is a common symptom of depression, and it can make everything seem bleak. It's understandable that you're struggling to identify the exact cause of these emotions. Can you tell me more about your relationship with your mom?\"}]   \n",
       "4  [{'from': 'human', 'value': \"I'm feeling really upset and confused about my identity.\"}\\n {'from': 'gpt', 'value': \"I hear your concerns, and I'm here to help. Could you tell me a bit more about what's been going on that's making you feel this way?\"}\\n {'from': 'human', 'value': \"Well, I've been struggling with addiction for a while now, and it's starting to take a toll on how I see myself. I feel like my addiction has become a part of my identity, and it's hard to imagine who I am without it.\"}\\n {'from': 'gpt', 'value': \"Addiction can certainly have a significant impact on how we perceive ourselves, but I want you to know that you are not defined by your addiction. It's only one part of your journey. Have you been able to identify any specific triggers or underlying reasons for your addiction?\"}\\n {'from': 'human', 'value': 'I think stress and anxiety play a big role in why I turned to addiction in the first place. It became a way for me to escape from those overwhelming emotions.'}\\n {'from': 'gpt', 'value': \"That's a crucial insight. Recognizing the link between stress, anxiety, and your addiction is a major step towards finding healthier coping mechanisms. Have you explored any alternative ways to manage stress and anxiety?\"}\\n {'from': 'human', 'value': \"I've tried a few things like meditation and exercise, but they haven't been as effective as I had hoped. It's tempting to go back to my addiction because it temporarily numbs those feelings.\"}\\n {'from': 'gpt', 'value': \"I appreciate your honesty. It's essential to acknowledge that finding alternative coping mechanisms takes time and effort. We need to identify what works best for you. Have you considered seeking support from addiction recovery groups or counseling?\"}\\n {'from': 'human', 'value': \"I haven't thought about that before. Do you think it could help?\"}\\n {'from': 'gpt', 'value': \"Absolutely! Joining a support group or seeking counseling can provide you with a safe space to share your experiences with others who can relate to what you're going through. They can offer guidance and encouragement as you navigate your way to recovery. It's an opportunity to connect with people who understand and have successfully managed their addiction.\"}\\n {'from': 'human', 'value': \"That sounds comforting. I've always felt a bit isolated, thinking that no one would understand what I'm going through. Is it okay to reach out for help?\"}\\n {'from': 'gpt', 'value': \"It's more than okay; it's commendable. Asking for help takes tremendous strength and courage. Remember, you're not alone in this journey. Many people have successfully recovered from addiction and rebuilt their lives. It's crucial to have a support system that can guide you along the way, whether it's friends, family, or professionals who specialize in addiction recovery.\"}\\n {'from': 'human', 'value': \"Thank you for your reassurance. I will definitely look into finding a support group or counselor. But I'm worried about relapsing and losing all the progress I've made. How can I stay strong during the recovery process?\"}\\n {'from': 'gpt', 'value': \"Relapse is a common concern for anyone going through recovery. It's essential to remember that setbacks can happen, but they don't define your progress. Developing a relapse prevention plan with the guidance of a counselor can help you anticipate triggers and develop strategies to overcome cravings. Building a support system can also provide accountability and encouragement during challenging times.\"}\\n {'from': 'human', 'value': \"That makes sense. I'll do my best to stay committed to my recovery and reach out for help when needed. Thank you for your guidance and support.\"}\\n {'from': 'gpt', 'value': \"You're most welcome. Remember, recovery is a journey, and it won't always be easy. But with perseverance and the right support, you can regain control of your life and rediscover your true identity, beyond addiction. I believe in you, and I'll be here every step of the way.\"}\\n {'from': 'human', 'value': \"Thank you, I needed to hear that. I'm grateful to have someone like you in my corner. I'm feeling hopeful and ready to take those steps towards a better future.\"}\\n {'from': 'gpt', 'value': \"I'm glad to hear that. Remember, you have inherent worth and strength within you. Embrace your journey, and know that true healing and transformation are possible. I'm here whenever you need to talk. Take care, and stay strong.\"}]   \n",
       "\n",
       "           id  \n",
       "0  identity_0  \n",
       "1  identity_1  \n",
       "2  identity_2  \n",
       "3  identity_3  \n",
       "4  identity_4  "
      ]
     },
     "execution_count": 4,
     "metadata": {},
     "output_type": "execute_result"
    }
   ],
   "source": [
    "chat.head()"
   ]
  },
  {
   "cell_type": "markdown",
   "id": "de10999c-443c-46bc-85b2-716313de7b60",
   "metadata": {},
   "source": [
    "# Data Processing Function"
   ]
  },
  {
   "cell_type": "code",
   "execution_count": 5,
   "id": "68be6028-8d75-498b-856a-4693418e68f3",
   "metadata": {},
   "outputs": [
    {
     "name": "stdout",
     "output_type": "stream",
     "text": [
      "Requirement already satisfied: tqdm in /Users/atrijoshi/miniconda3/envs/rag/lib/python3.12/site-packages (4.67.1)\n"
     ]
    }
   ],
   "source": [
    "!python3 -m pip install tqdm"
   ]
  },
  {
   "cell_type": "code",
   "execution_count": 6,
   "id": "26cdf556-ba30-443c-ab78-0b18b231be12",
   "metadata": {},
   "outputs": [],
   "source": [
    "def process_conversation_row(conversation_str: str, conversation_id: str) -> list:\n",
    "    \"\"\"\n",
    "    Processes a conversation string from a row to create Human/AI pair chunks.\n",
    "    This version is corrected based on the clarified data structure.\n",
    "    \"\"\"\n",
    "    # Guard Clause: If the input is not a string or is empty, skip it.\n",
    "    if not isinstance(conversation_str, str) or not conversation_str.strip():\n",
    "        return []\n",
    "\n",
    "    documents = []\n",
    "    try:\n",
    "        # The entire string is a list, so we just replace \\n with a comma\n",
    "        # to make it a syntactically correct list for parsing.\n",
    "        cleaned_str = conversation_str.replace('\\n', ',')\n",
    "        \n",
    "        # Safely parse the string into a Python list\n",
    "        conversation_list = ast.literal_eval(cleaned_str)\n",
    "        \n",
    "        # Iterate through the conversation turns to create pairs\n",
    "        for i in range(0, len(conversation_list) - 1, 2):\n",
    "            if conversation_list[i].get('from') == 'human' and conversation_list[i+1].get('from') == 'gpt':\n",
    "                human_text = conversation_list[i].get('value', '')\n",
    "                gpt_text = conversation_list[i+1].get('value', '')\n",
    "                \n",
    "                combined_text = f\"Human: {human_text}\\nAI: {gpt_text}\"\n",
    "                \n",
    "                metadata = {\n",
    "                    'conversation_id': conversation_id, # Use the ID from the 'Id' column\n",
    "                    'turn_number': i \n",
    "                }\n",
    "                documents.append({'text_chunk': combined_text, 'metadata': metadata})\n",
    "\n",
    "    except (SyntaxError, ValueError) as e:\n",
    "        # This will catch any rows that still have formatting issues\n",
    "        print(f\"Skipping row with ID '{conversation_id}' due to a parsing error: {e}\")\n",
    "        return []\n",
    "        \n",
    "    return documents"
   ]
  },
  {
   "cell_type": "markdown",
   "id": "7ff5f79f-494d-4507-9e4d-4dd7cf1f0933",
   "metadata": {},
   "source": [
    "## Apply the Function and Create Your Document List"
   ]
  },
  {
   "cell_type": "code",
   "execution_count": 7,
   "id": "66c1486d-98be-4731-b862-9e45292ca2f2",
   "metadata": {},
   "outputs": [
    {
     "name": "stderr",
     "output_type": "stream",
     "text": [
      "Processing Conversations: 100%|██████████████████████████████████████████████████████████████████████████████████████████████████████████████████████████████████| 99086/99086 [00:08<00:00, 11118.34it/s]"
     ]
    },
    {
     "name": "stdout",
     "output_type": "stream",
     "text": [
      "\n",
      "Successfully processed the data.\n",
      "Total conversational chunks created: 807085\n",
      "\n",
      "--- Example Document ---\n",
      "{'text_chunk': \"Human: I've been feeling so sad and overwhelmed lately. Work has become such a massive source of stress for me.\\nAI: Hey there, I'm here to listen and support you. It sounds like work has been really challenging lately. Can you tell me more about what's been going on?\", 'metadata': {'conversation_id': 'identity_0', 'turn_number': 0}}\n"
     ]
    },
    {
     "name": "stderr",
     "output_type": "stream",
     "text": [
      "\n"
     ]
    }
   ],
   "source": [
    "all_documents = []\n",
    "for index, row in tqdm(chat.iterrows(), total=chat.shape[0], desc=\"Processing Conversations\"):\n",
    "    # Pass the 'conversations' string and the 'Id' to the function\n",
    "    chunks = process_conversation_row(row['conversations'], row['id'])\n",
    "    all_documents.extend(chunks)\n",
    "\n",
    "print(f\"\\nSuccessfully processed the data.\")\n",
    "print(f\"Total conversational chunks created: {len(all_documents)}\")\n",
    "\n",
    "# Inspect the first document to confirm it's correct\n",
    "if all_documents:\n",
    "    print(\"\\n--- Example Document ---\")\n",
    "    print(all_documents[0])"
   ]
  },
  {
   "cell_type": "markdown",
   "id": "969d8c63-7c16-4828-a108-e7592adbbe19",
   "metadata": {},
   "source": [
    "## Embedding Starts and Vector Database"
   ]
  },
  {
   "cell_type": "code",
   "execution_count": 8,
   "id": "3fb69817-2f8a-45d4-b62f-ad8730819b70",
   "metadata": {},
   "outputs": [],
   "source": [
    "# Starting Embedding"
   ]
  },
  {
   "cell_type": "code",
   "execution_count": 9,
   "id": "523df2ee-57f6-4278-9722-7bd026d75eeb",
   "metadata": {},
   "outputs": [
    {
     "name": "stdout",
     "output_type": "stream",
     "text": [
      "Embedding model 'BAAI/bge-large-en-v1.5' loaded successfully.\n"
     ]
    }
   ],
   "source": [
    "from sentence_transformers import SentenceTransformer\n",
    "\n",
    "# Load the BGE-large model.\n",
    "# This is a much more powerful model and will take longer to load and use.\n",
    "model_name = \"BAAI/bge-large-en-v1.5\"\n",
    "model = SentenceTransformer(model_name)\n",
    "\n",
    "print(f\"Embedding model '{model_name}' loaded successfully.\")"
   ]
  },
  {
   "cell_type": "code",
   "execution_count": 10,
   "id": "edf3bf22-40a1-4c17-8d26-3fb228da468a",
   "metadata": {},
   "outputs": [],
   "source": [
    "# Creation of Vector Database"
   ]
  },
  {
   "cell_type": "code",
   "execution_count": 11,
   "id": "95d0a887-ee51-4bb7-b567-95b5e195c596",
   "metadata": {},
   "outputs": [
    {
     "name": "stdout",
     "output_type": "stream",
     "text": [
      "ChromaDB client initialized. Collection 'conversational_rag_bge' is ready.\n",
      "Current document count in collection: 0\n"
     ]
    }
   ],
   "source": [
    "import chromadb\n",
    "\n",
    "# Initialize the client (this will use the same 'chroma_db' directory)\n",
    "client = chromadb.PersistentClient(path=\"chroma_db\")\n",
    "\n",
    "# Create a NEW collection with a different name\n",
    "collection_name_bge = \"conversational_rag_bge\"\n",
    "collection = client.get_or_create_collection(name=collection_name_bge)\n",
    "\n",
    "print(f\"ChromaDB client initialized. Collection '{collection_name_bge}' is ready.\")\n",
    "print(f\"Current document count in collection: {collection.count()}\")"
   ]
  },
  {
   "cell_type": "code",
   "execution_count": 13,
   "id": "ff900890-e2e9-4f5f-b6c6-3858d2b0aefd",
   "metadata": {},
   "outputs": [
    {
     "name": "stdout",
     "output_type": "stream",
     "text": [
      "✅ MPS (Apple Silicon GPU) is available! The model will run on the GPU.\n",
      "Embedding model 'BAAI/bge-large-en-v1.5' is now on device: 'mps:0'\n"
     ]
    }
   ],
   "source": [
    "from sentence_transformers import SentenceTransformer\n",
    "import torch # NEW: Import torch\n",
    "\n",
    "# --- NEW: DETECT AND SET THE APPLE SILICON GPU (MPS) DEVICE ---\n",
    "if torch.backends.mps.is_available():\n",
    "    device = 'mps'\n",
    "    print(\"✅ MPS (Apple Silicon GPU) is available! The model will run on the GPU.\")\n",
    "else:\n",
    "    device = 'cpu'\n",
    "    print(\"❌ MPS not available. Running on CPU.\")\n",
    "# ----------------------------------------------------------------\n",
    "\n",
    "# Load the BGE-large model\n",
    "model_name = \"BAAI/bge-large-en-v1.5\"\n",
    "model = SentenceTransformer(model_name)\n",
    "\n",
    "# --- NEW: MOVE THE MODEL TO THE DETECTED DEVICE (GPU) ---\n",
    "model.to(device)\n",
    "# -------------------------------------------------------\n",
    "\n",
    "print(f\"Embedding model '{model_name}' is now on device: '{model.device}'\")"
   ]
  },
  {
   "cell_type": "code",
   "execution_count": 14,
   "id": "6b11443c-b675-4f55-981a-447f7c9bf5f9",
   "metadata": {},
   "outputs": [
    {
     "name": "stdout",
     "output_type": "stream",
     "text": [
      "Generating embeddings with BGE-large model on device: 'mps'...\n"
     ]
    },
    {
     "data": {
      "application/vnd.jupyter.widget-view+json": {
       "model_id": "0ca52919105844b987e296d1fb92bd24",
       "version_major": 2,
       "version_minor": 0
      },
      "text/plain": [
       "Batches:   0%|          | 0/25222 [00:00<?, ?it/s]"
      ]
     },
     "metadata": {},
     "output_type": "display_data"
    },
    {
     "name": "stdout",
     "output_type": "stream",
     "text": [
      "Embeddings generated.\n"
     ]
    },
    {
     "ename": "InternalError",
     "evalue": "ValueError: Batch size of 807085 is greater than max batch size of 5461",
     "output_type": "error",
     "traceback": [
      "\u001b[31m---------------------------------------------------------------------------\u001b[39m",
      "\u001b[31mInternalError\u001b[39m                             Traceback (most recent call last)",
      "\u001b[36mCell\u001b[39m\u001b[36m \u001b[39m\u001b[32mIn[14]\u001b[39m\u001b[32m, line 14\u001b[39m\n\u001b[32m     11\u001b[39m \u001b[38;5;28mprint\u001b[39m(\u001b[33m\"\u001b[39m\u001b[33mEmbeddings generated.\u001b[39m\u001b[33m\"\u001b[39m)\n\u001b[32m     13\u001b[39m \u001b[38;5;66;03m# Add the data to the new BGE collection\u001b[39;00m\n\u001b[32m---> \u001b[39m\u001b[32m14\u001b[39m \u001b[43mcollection\u001b[49m\u001b[43m.\u001b[49m\u001b[43madd\u001b[49m\u001b[43m(\u001b[49m\n\u001b[32m     15\u001b[39m \u001b[43m    \u001b[49m\u001b[43membeddings\u001b[49m\u001b[43m=\u001b[49m\u001b[43membeddings_to_add\u001b[49m\u001b[43m,\u001b[49m\n\u001b[32m     16\u001b[39m \u001b[43m    \u001b[49m\u001b[43mdocuments\u001b[49m\u001b[43m=\u001b[49m\u001b[43mdocuments_to_add\u001b[49m\u001b[43m,\u001b[49m\n\u001b[32m     17\u001b[39m \u001b[43m    \u001b[49m\u001b[43mmetadatas\u001b[49m\u001b[43m=\u001b[49m\u001b[43mmetadatas_to_add\u001b[49m\u001b[43m,\u001b[49m\n\u001b[32m     18\u001b[39m \u001b[43m    \u001b[49m\u001b[43mids\u001b[49m\u001b[43m=\u001b[49m\u001b[43mids_to_add\u001b[49m\n\u001b[32m     19\u001b[39m \u001b[43m)\u001b[49m\n\u001b[32m     21\u001b[39m \u001b[38;5;28mprint\u001b[39m(\u001b[33mf\u001b[39m\u001b[33m\"\u001b[39m\u001b[38;5;130;01m\\n\u001b[39;00m\u001b[33mSuccessfully added \u001b[39m\u001b[38;5;132;01m{\u001b[39;00m\u001b[38;5;28mlen\u001b[39m(ids_to_add)\u001b[38;5;132;01m}\u001b[39;00m\u001b[33m documents to the \u001b[39m\u001b[33m'\u001b[39m\u001b[38;5;132;01m{\u001b[39;00mcollection_name_bge\u001b[38;5;132;01m}\u001b[39;00m\u001b[33m'\u001b[39m\u001b[33m collection.\u001b[39m\u001b[33m\"\u001b[39m)\n\u001b[32m     22\u001b[39m \u001b[38;5;28mprint\u001b[39m(\u001b[33mf\u001b[39m\u001b[33m\"\u001b[39m\u001b[33mNew document count in collection: \u001b[39m\u001b[38;5;132;01m{\u001b[39;00mcollection.count()\u001b[38;5;132;01m}\u001b[39;00m\u001b[33m\"\u001b[39m)\n",
      "\u001b[36mFile \u001b[39m\u001b[32m~/miniconda3/envs/rag/lib/python3.12/site-packages/chromadb/api/models/Collection.py:93\u001b[39m, in \u001b[36mCollection.add\u001b[39m\u001b[34m(self, ids, embeddings, metadatas, documents, images, uris)\u001b[39m\n\u001b[32m     63\u001b[39m \u001b[38;5;250m\u001b[39m\u001b[33;03m\"\"\"Add embeddings to the data store.\u001b[39;00m\n\u001b[32m     64\u001b[39m \u001b[33;03mArgs:\u001b[39;00m\n\u001b[32m     65\u001b[39m \u001b[33;03m    ids: The ids of the embeddings you wish to add\u001b[39;00m\n\u001b[32m   (...)\u001b[39m\u001b[32m     81\u001b[39m \n\u001b[32m     82\u001b[39m \u001b[33;03m\"\"\"\u001b[39;00m\n\u001b[32m     84\u001b[39m add_request = \u001b[38;5;28mself\u001b[39m._validate_and_prepare_add_request(\n\u001b[32m     85\u001b[39m     ids=ids,\n\u001b[32m     86\u001b[39m     embeddings=embeddings,\n\u001b[32m   (...)\u001b[39m\u001b[32m     90\u001b[39m     uris=uris,\n\u001b[32m     91\u001b[39m )\n\u001b[32m---> \u001b[39m\u001b[32m93\u001b[39m \u001b[38;5;28;43mself\u001b[39;49m\u001b[43m.\u001b[49m\u001b[43m_client\u001b[49m\u001b[43m.\u001b[49m\u001b[43m_add\u001b[49m\u001b[43m(\u001b[49m\n\u001b[32m     94\u001b[39m \u001b[43m    \u001b[49m\u001b[43mcollection_id\u001b[49m\u001b[43m=\u001b[49m\u001b[38;5;28;43mself\u001b[39;49m\u001b[43m.\u001b[49m\u001b[43mid\u001b[49m\u001b[43m,\u001b[49m\n\u001b[32m     95\u001b[39m \u001b[43m    \u001b[49m\u001b[43mids\u001b[49m\u001b[43m=\u001b[49m\u001b[43madd_request\u001b[49m\u001b[43m[\u001b[49m\u001b[33;43m\"\u001b[39;49m\u001b[33;43mids\u001b[39;49m\u001b[33;43m\"\u001b[39;49m\u001b[43m]\u001b[49m\u001b[43m,\u001b[49m\n\u001b[32m     96\u001b[39m \u001b[43m    \u001b[49m\u001b[43membeddings\u001b[49m\u001b[43m=\u001b[49m\u001b[43madd_request\u001b[49m\u001b[43m[\u001b[49m\u001b[33;43m\"\u001b[39;49m\u001b[33;43membeddings\u001b[39;49m\u001b[33;43m\"\u001b[39;49m\u001b[43m]\u001b[49m\u001b[43m,\u001b[49m\n\u001b[32m     97\u001b[39m \u001b[43m    \u001b[49m\u001b[43mmetadatas\u001b[49m\u001b[43m=\u001b[49m\u001b[43madd_request\u001b[49m\u001b[43m[\u001b[49m\u001b[33;43m\"\u001b[39;49m\u001b[33;43mmetadatas\u001b[39;49m\u001b[33;43m\"\u001b[39;49m\u001b[43m]\u001b[49m\u001b[43m,\u001b[49m\n\u001b[32m     98\u001b[39m \u001b[43m    \u001b[49m\u001b[43mdocuments\u001b[49m\u001b[43m=\u001b[49m\u001b[43madd_request\u001b[49m\u001b[43m[\u001b[49m\u001b[33;43m\"\u001b[39;49m\u001b[33;43mdocuments\u001b[39;49m\u001b[33;43m\"\u001b[39;49m\u001b[43m]\u001b[49m\u001b[43m,\u001b[49m\n\u001b[32m     99\u001b[39m \u001b[43m    \u001b[49m\u001b[43muris\u001b[49m\u001b[43m=\u001b[49m\u001b[43madd_request\u001b[49m\u001b[43m[\u001b[49m\u001b[33;43m\"\u001b[39;49m\u001b[33;43muris\u001b[39;49m\u001b[33;43m\"\u001b[39;49m\u001b[43m]\u001b[49m\u001b[43m,\u001b[49m\n\u001b[32m    100\u001b[39m \u001b[43m    \u001b[49m\u001b[43mtenant\u001b[49m\u001b[43m=\u001b[49m\u001b[38;5;28;43mself\u001b[39;49m\u001b[43m.\u001b[49m\u001b[43mtenant\u001b[49m\u001b[43m,\u001b[49m\n\u001b[32m    101\u001b[39m \u001b[43m    \u001b[49m\u001b[43mdatabase\u001b[49m\u001b[43m=\u001b[49m\u001b[38;5;28;43mself\u001b[39;49m\u001b[43m.\u001b[49m\u001b[43mdatabase\u001b[49m\u001b[43m,\u001b[49m\n\u001b[32m    102\u001b[39m \u001b[43m\u001b[49m\u001b[43m)\u001b[49m\n",
      "\u001b[36mFile \u001b[39m\u001b[32m~/miniconda3/envs/rag/lib/python3.12/site-packages/chromadb/api/rust.py:421\u001b[39m, in \u001b[36mRustBindingsAPI._add\u001b[39m\u001b[34m(self, ids, collection_id, embeddings, metadatas, documents, uris, tenant, database)\u001b[39m\n\u001b[32m    399\u001b[39m \u001b[38;5;129m@override\u001b[39m\n\u001b[32m    400\u001b[39m \u001b[38;5;28;01mdef\u001b[39;00m\u001b[38;5;250m \u001b[39m\u001b[34m_add\u001b[39m(\n\u001b[32m    401\u001b[39m     \u001b[38;5;28mself\u001b[39m,\n\u001b[32m   (...)\u001b[39m\u001b[32m    409\u001b[39m     database: \u001b[38;5;28mstr\u001b[39m = DEFAULT_DATABASE,\n\u001b[32m    410\u001b[39m ) -> \u001b[38;5;28mbool\u001b[39m:\n\u001b[32m    411\u001b[39m     \u001b[38;5;28mself\u001b[39m.product_telemetry_client.capture(\n\u001b[32m    412\u001b[39m         CollectionAddEvent(\n\u001b[32m    413\u001b[39m             collection_uuid=\u001b[38;5;28mstr\u001b[39m(collection_id),\n\u001b[32m   (...)\u001b[39m\u001b[32m    418\u001b[39m         )\n\u001b[32m    419\u001b[39m     )\n\u001b[32m--> \u001b[39m\u001b[32m421\u001b[39m     \u001b[38;5;28;01mreturn\u001b[39;00m \u001b[38;5;28;43mself\u001b[39;49m\u001b[43m.\u001b[49m\u001b[43mbindings\u001b[49m\u001b[43m.\u001b[49m\u001b[43madd\u001b[49m\u001b[43m(\u001b[49m\n\u001b[32m    422\u001b[39m \u001b[43m        \u001b[49m\u001b[43mids\u001b[49m\u001b[43m,\u001b[49m\n\u001b[32m    423\u001b[39m \u001b[43m        \u001b[49m\u001b[38;5;28;43mstr\u001b[39;49m\u001b[43m(\u001b[49m\u001b[43mcollection_id\u001b[49m\u001b[43m)\u001b[49m\u001b[43m,\u001b[49m\n\u001b[32m    424\u001b[39m \u001b[43m        \u001b[49m\u001b[43membeddings\u001b[49m\u001b[43m,\u001b[49m\n\u001b[32m    425\u001b[39m \u001b[43m        \u001b[49m\u001b[43mmetadatas\u001b[49m\u001b[43m,\u001b[49m\n\u001b[32m    426\u001b[39m \u001b[43m        \u001b[49m\u001b[43mdocuments\u001b[49m\u001b[43m,\u001b[49m\n\u001b[32m    427\u001b[39m \u001b[43m        \u001b[49m\u001b[43muris\u001b[49m\u001b[43m,\u001b[49m\n\u001b[32m    428\u001b[39m \u001b[43m        \u001b[49m\u001b[43mtenant\u001b[49m\u001b[43m,\u001b[49m\n\u001b[32m    429\u001b[39m \u001b[43m        \u001b[49m\u001b[43mdatabase\u001b[49m\u001b[43m,\u001b[49m\n\u001b[32m    430\u001b[39m \u001b[43m    \u001b[49m\u001b[43m)\u001b[49m\n",
      "\u001b[31mInternalError\u001b[39m: ValueError: Batch size of 807085 is greater than max batch size of 5461"
     ]
    }
   ],
   "source": [
    "# The 'all_documents' list is already prepared from our previous steps.\n",
    "\n",
    "# Prepare the data for ChromaDB's add method\n",
    "ids_to_add = [f\"{doc['metadata']['conversation_id']}_turn{doc['metadata']['turn_number']}\" for doc in all_documents]\n",
    "documents_to_add = [doc['text_chunk'] for doc in all_documents]\n",
    "metadatas_to_add = [doc['metadata'] for doc in all_documents]\n",
    "\n",
    "# This will now run on your M4 Max GPU and be MUCH faster.\n",
    "print(f\"Generating embeddings with BGE-large model on device: '{device}'...\")\n",
    "embeddings_to_add = model.encode(documents_to_add, show_progress_bar=True, device=device).tolist()\n",
    "print(\"Embeddings generated.\")\n",
    "\n",
    "# Add the data to the new BGE collection\n",
    "collection.add(\n",
    "    embeddings=embeddings_to_add,\n",
    "    documents=documents_to_add,\n",
    "    metadatas=metadatas_to_add,\n",
    "    ids=ids_to_add\n",
    ")\n",
    "\n",
    "print(f\"\\nSuccessfully added {len(ids_to_add)} documents to the '{collection_name_bge}' collection.\")\n",
    "print(f\"New document count in collection: {collection.count()}\")"
   ]
  },
  {
   "cell_type": "code",
   "execution_count": 15,
   "id": "5a61f00b-4d56-4860-ae0b-96ca3db2231d",
   "metadata": {},
   "outputs": [
    {
     "name": "stderr",
     "output_type": "stream",
     "text": [
      "Adding documents in batches: 100%|██████████████████████████████████████████████████████████████████████████████████████████████████████████████████████████████████████| 198/198 [09:23<00:00,  2.84s/it]\n"
     ]
    },
    {
     "name": "stdout",
     "output_type": "stream",
     "text": [
      "\n",
      "✅ Successfully added all documents to the collection in batches.\n",
      "Total document count in collection: 807085\n"
     ]
    }
   ],
   "source": [
    "\n",
    "# Define a batch size that is safely below the limit\n",
    "batch_size = 4096\n",
    "\n",
    "# Loop through the data in batches\n",
    "for i in tqdm(range(0, len(documents_to_add), batch_size), desc=\"Adding documents in batches\"):\n",
    "    # Find the end of the batch\n",
    "    end_index = i + batch_size\n",
    "    \n",
    "    # Get the batch data from your existing lists\n",
    "    ids_batch = ids_to_add[i:end_index]\n",
    "    documents_batch = documents_to_add[i:end_index]\n",
    "    metadatas_batch = metadatas_to_add[i:end_index]\n",
    "    embeddings_batch = embeddings_to_add[i:end_index]\n",
    "    \n",
    "    # Add the batch to the collection\n",
    "    collection.add(\n",
    "        ids=ids_batch,\n",
    "        embeddings=embeddings_batch,\n",
    "        documents=documents_batch,\n",
    "        metadatas=metadatas_batch\n",
    "    )\n",
    "\n",
    "print(\"\\n✅ Successfully added all documents to the collection in batches.\")\n",
    "print(f\"Total document count in collection: {collection.count()}\")"
   ]
  },
  {
   "cell_type": "code",
   "execution_count": null,
   "id": "5dad4cd2-1efe-4c4b-bd8c-dfabe404d8bf",
   "metadata": {},
   "outputs": [],
   "source": []
  }
 ],
 "metadata": {
  "kernelspec": {
   "display_name": "Python_RAG",
   "language": "python",
   "name": "python_rag"
  },
  "language_info": {
   "codemirror_mode": {
    "name": "ipython",
    "version": 3
   },
   "file_extension": ".py",
   "mimetype": "text/x-python",
   "name": "python",
   "nbconvert_exporter": "python",
   "pygments_lexer": "ipython3",
   "version": "3.12.11"
  }
 },
 "nbformat": 4,
 "nbformat_minor": 5
}
